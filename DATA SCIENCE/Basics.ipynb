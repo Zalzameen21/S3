{
 "cells": [
  {
   "cell_type": "code",
   "execution_count": 7,
   "id": "da7228ff",
   "metadata": {},
   "outputs": [],
   "source": [
    " a = 5"
   ]
  },
  {
   "cell_type": "code",
   "execution_count": 8,
   "id": "ca419a24",
   "metadata": {},
   "outputs": [
    {
     "name": "stdout",
     "output_type": "stream",
     "text": [
      "5\n"
     ]
    }
   ],
   "source": [
    "print (a)"
   ]
  },
  {
   "cell_type": "code",
   "execution_count": 9,
   "id": "eb3391b4",
   "metadata": {},
   "outputs": [],
   "source": [
    "b=3"
   ]
  },
  {
   "cell_type": "code",
   "execution_count": 10,
   "id": "c5ccd70e",
   "metadata": {},
   "outputs": [
    {
     "name": "stdout",
     "output_type": "stream",
     "text": [
      "8\n"
     ]
    }
   ],
   "source": [
    "print (a+b)\n"
   ]
  },
  {
   "cell_type": "code",
   "execution_count": 11,
   "id": "c841c805",
   "metadata": {},
   "outputs": [
    {
     "data": {
      "text/plain": [
       "int"
      ]
     },
     "execution_count": 11,
     "metadata": {},
     "output_type": "execute_result"
    }
   ],
   "source": [
    "type (a)"
   ]
  },
  {
   "cell_type": "code",
   "execution_count": 12,
   "id": "005c6e00",
   "metadata": {},
   "outputs": [
    {
     "name": "stdout",
     "output_type": "stream",
     "text": [
      "Hello\n"
     ]
    }
   ],
   "source": [
    "def my_fun():\n",
    "    print(\"Hello\")\n",
    "my_fun()"
   ]
  },
  {
   "cell_type": "code",
   "execution_count": 14,
   "id": "e8f6ec16",
   "metadata": {},
   "outputs": [],
   "source": [
    "def add(a,b):\n",
    "    print(a+b)"
   ]
  },
  {
   "cell_type": "code",
   "execution_count": 15,
   "id": "741b7a3b",
   "metadata": {},
   "outputs": [
    {
     "name": "stdout",
     "output_type": "stream",
     "text": [
      "8\n"
     ]
    }
   ],
   "source": [
    "add(1,7)"
   ]
  },
  {
   "cell_type": "code",
   "execution_count": 16,
   "id": "ce1885c4",
   "metadata": {},
   "outputs": [],
   "source": [
    "def add(a,b):\n",
    "    c=a+b\n",
    "    print(c)"
   ]
  },
  {
   "cell_type": "code",
   "execution_count": 17,
   "id": "0d284cc8",
   "metadata": {},
   "outputs": [
    {
     "name": "stdout",
     "output_type": "stream",
     "text": [
      "6\n"
     ]
    }
   ],
   "source": [
    "add(3,3)"
   ]
  },
  {
   "cell_type": "code",
   "execution_count": 18,
   "id": "3c6464c9",
   "metadata": {},
   "outputs": [
    {
     "name": "stdout",
     "output_type": "stream",
     "text": [
      "[1, 2, 3, 4, 5, 6, 7, 8, 9]\n"
     ]
    }
   ],
   "source": [
    "a=[1,2,3,4,5,6,7,8,9]\n",
    "print(a)"
   ]
  },
  {
   "cell_type": "code",
   "execution_count": 19,
   "id": "648c812f",
   "metadata": {},
   "outputs": [],
   "source": [
    "text=\"my name is zalzameen\""
   ]
  },
  {
   "cell_type": "code",
   "execution_count": 20,
   "id": "09c01640",
   "metadata": {},
   "outputs": [
    {
     "data": {
      "text/plain": [
       "['my', 'name', 'is', 'zalzameen']"
      ]
     },
     "execution_count": 20,
     "metadata": {},
     "output_type": "execute_result"
    }
   ],
   "source": [
    "text.split()"
   ]
  },
  {
   "cell_type": "code",
   "execution_count": 23,
   "id": "1ca249be",
   "metadata": {},
   "outputs": [],
   "source": [
    "tet=\"my na,me is za,lzame,en\""
   ]
  },
  {
   "cell_type": "code",
   "execution_count": 24,
   "id": "b9932f7b",
   "metadata": {},
   "outputs": [
    {
     "data": {
      "text/plain": [
       "['my na', 'me is za', 'lzame', 'en']"
      ]
     },
     "execution_count": 24,
     "metadata": {},
     "output_type": "execute_result"
    }
   ],
   "source": [
    "tet.split(\",\")"
   ]
  },
  {
   "cell_type": "code",
   "execution_count": 25,
   "id": "4bc7f657",
   "metadata": {},
   "outputs": [],
   "source": [
    "za=text.split()"
   ]
  },
  {
   "cell_type": "code",
   "execution_count": 26,
   "id": "8cc43390",
   "metadata": {},
   "outputs": [
    {
     "data": {
      "text/plain": [
       "'my'"
      ]
     },
     "execution_count": 26,
     "metadata": {},
     "output_type": "execute_result"
    }
   ],
   "source": [
    "za[0]"
   ]
  },
  {
   "cell_type": "code",
   "execution_count": 27,
   "id": "bd69f9e0",
   "metadata": {},
   "outputs": [
    {
     "data": {
      "text/plain": [
       "'name'"
      ]
     },
     "execution_count": 27,
     "metadata": {},
     "output_type": "execute_result"
    }
   ],
   "source": [
    "za[1]"
   ]
  },
  {
   "cell_type": "code",
   "execution_count": 28,
   "id": "9e4ff436",
   "metadata": {},
   "outputs": [
    {
     "data": {
      "text/plain": [
       "'zalzameen'"
      ]
     },
     "execution_count": 28,
     "metadata": {},
     "output_type": "execute_result"
    }
   ],
   "source": [
    "za[-1]"
   ]
  },
  {
   "cell_type": "code",
   "execution_count": 29,
   "id": "9245dda9",
   "metadata": {},
   "outputs": [
    {
     "data": {
      "text/plain": [
       "'is'"
      ]
     },
     "execution_count": 29,
     "metadata": {},
     "output_type": "execute_result"
    }
   ],
   "source": [
    "za[2]"
   ]
  },
  {
   "cell_type": "code",
   "execution_count": 30,
   "id": "6286332c",
   "metadata": {},
   "outputs": [
    {
     "data": {
      "text/plain": [
       "'zalzameen'"
      ]
     },
     "execution_count": 30,
     "metadata": {},
     "output_type": "execute_result"
    }
   ],
   "source": [
    "za[3]"
   ]
  },
  {
   "cell_type": "code",
   "execution_count": 34,
   "id": "41413d10",
   "metadata": {},
   "outputs": [
    {
     "name": "stdout",
     "output_type": "stream",
     "text": [
      "1\n",
      "2\n",
      "3\n",
      "6\n",
      "4\n",
      "5\n"
     ]
    }
   ],
   "source": [
    "f=[1,2,3,6,4,5]\n",
    "\n",
    "for i in f:\n",
    "    print(i)"
   ]
  },
  {
   "cell_type": "code",
   "execution_count": 35,
   "id": "c87825ec",
   "metadata": {},
   "outputs": [
    {
     "name": "stdout",
     "output_type": "stream",
     "text": [
      "0\n",
      "1\n",
      "2\n",
      "3\n",
      "4\n",
      "5\n",
      "6\n",
      "7\n",
      "8\n",
      "9\n"
     ]
    }
   ],
   "source": [
    "for i in range(0,10):\n",
    "    print(i)"
   ]
  },
  {
   "cell_type": "code",
   "execution_count": 38,
   "id": "3283d2f0",
   "metadata": {},
   "outputs": [
    {
     "name": "stdout",
     "output_type": "stream",
     "text": [
      "10\n",
      "9\n",
      "8\n",
      "7\n",
      "6\n",
      "5\n",
      "4\n",
      "3\n",
      "2\n",
      "1\n"
     ]
    }
   ],
   "source": [
    "for i in range(10,0,-1):\n",
    "    print(i)"
   ]
  },
  {
   "cell_type": "code",
   "execution_count": 46,
   "id": "749469b1",
   "metadata": {},
   "outputs": [
    {
     "name": "stdout",
     "output_type": "stream",
     "text": [
      "Enter the size of array3\n",
      "enter the value:1\n",
      "enter the value:2\n",
      "enter the value:3\n"
     ]
    }
   ],
   "source": [
    "list1=[]\n",
    "t=int(input(\"Enter the size of array\"))\n",
    "for i in range(0,t):\n",
    "    i=input(\"enter the value:\")\n",
    "    list1.append(i)\n"
   ]
  },
  {
   "cell_type": "code",
   "execution_count": 48,
   "id": "c019ef69",
   "metadata": {},
   "outputs": [
    {
     "data": {
      "text/plain": [
       "['1', '2', '3']"
      ]
     },
     "execution_count": 48,
     "metadata": {},
     "output_type": "execute_result"
    }
   ],
   "source": [
    "list1"
   ]
  },
  {
   "cell_type": "code",
   "execution_count": null,
   "id": "d4dc2922",
   "metadata": {},
   "outputs": [],
   "source": []
  }
 ],
 "metadata": {
  "kernelspec": {
   "display_name": "Python 3 (ipykernel)",
   "language": "python",
   "name": "python3"
  },
  "language_info": {
   "codemirror_mode": {
    "name": "ipython",
    "version": 3
   },
   "file_extension": ".py",
   "mimetype": "text/x-python",
   "name": "python",
   "nbconvert_exporter": "python",
   "pygments_lexer": "ipython3",
   "version": "3.9.7"
  }
 },
 "nbformat": 4,
 "nbformat_minor": 5
}
