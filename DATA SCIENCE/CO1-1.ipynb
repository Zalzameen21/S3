{
 "cells": [
  {
   "cell_type": "code",
   "execution_count": 2,
   "id": "81bd9334",
   "metadata": {},
   "outputs": [
    {
     "name": "stdout",
     "output_type": "stream",
     "text": [
      "Element-wise multiplication result:\n",
      "[4, 6, 6, 4]\n"
     ]
    }
   ],
   "source": [
    "a=[1,2,3,4]\n",
    "b=[4,3,2,1]\n",
    "if len(a) != len(b):\n",
    "    print(\"Arrays must be of the same size.\")\n",
    "else:\n",
    "    result = [a * b for a, b in zip(a, b)]\n",
    "    print(\"Element-wise multiplication result:\")\n",
    "    print(result)"
   ]
  },
  {
   "cell_type": "code",
   "execution_count": 3,
   "id": "4ce15c2d",
   "metadata": {},
   "outputs": [
    {
     "name": "stdout",
     "output_type": "stream",
     "text": [
      "Enter 1st num: 5\n",
      "Enter 2nd num: 5\n",
      "Select operation: 1.Add 2.Subtract 3.Multiply 4.Divide\n",
      "Enter choice (1/2/3/4): 5\n",
      "Invalid choice.\n"
     ]
    }
   ],
   "source": [
    "num1=int(input(\"Enter 1st num: \"))\n",
    "num2=int(input(\"Enter 2nd num: \"))\n",
    "print(\"Select operation: 1.Add 2.Subtract 3.Multiply 4.Divide\")\n",
    "choice = input(\"Enter choice (1/2/3/4): \")\n",
    "if choice == '1':\n",
    "    result = num1 + num2\n",
    "    print(\"Result:\", result)\n",
    "elif choice == '2':\n",
    "    result = num1 - num2\n",
    "    print(\"Result:\", result)\n",
    "elif choice == '3':\n",
    "    result = num1 * num2\n",
    "    print(\"Result:\", result)\n",
    "elif choice == '4':\n",
    "    if num2 == 0:\n",
    "        print(\"Error: Division by zero\")\n",
    "    else:\n",
    "        result = num1 / num2\n",
    "        print(\"Result:\", result)\n",
    "else:\n",
    "    print(\"Invalid choice.\")"
   ]
  },
  {
   "cell_type": "code",
   "execution_count": 4,
   "id": "a5d11974",
   "metadata": {},
   "outputs": [
    {
     "name": "stdout",
     "output_type": "stream",
     "text": [
      "The arrays are NOT equal.\n"
     ]
    }
   ],
   "source": [
    "array1 = [1, 2, 3, 4]\n",
    "array2 = [1, 2, 3, 5]\n",
    "if array1 == array2:\n",
    "    print(\"The arrays are equal (element-wise).\")\n",
    "else:\n",
    "    print(\"The arrays are NOT equal.\")"
   ]
  },
  {
   "cell_type": "code",
   "execution_count": 5,
   "id": "2d66e488",
   "metadata": {},
   "outputs": [
    {
     "name": "stdout",
     "output_type": "stream",
     "text": [
      "Enter elements of the first array (space-separated): 1 2 3\n",
      "Enter elements of the second array (space-separated): 1 2 3\n",
      "The arrays are equal (element-wise).\n"
     ]
    }
   ],
   "source": [
    "array1_input = input(\"Enter elements of the first array (space-separated): \")\n",
    "array2_input = input(\"Enter elements of the second array (space-separated): \")\n",
    "\n",
    "array1 = [int(x) for x in array1_input.split()]\n",
    "array2 = [int(x) for x in array2_input.split()]\n",
    "\n",
    "if array1 == array2:\n",
    "    print(\"The arrays are equal (element-wise).\")\n",
    "else:\n",
    "    print(\"The arrays are NOT equal.\")\n"
   ]
  },
  {
   "cell_type": "code",
   "execution_count": 6,
   "id": "c63e38b2",
   "metadata": {},
   "outputs": [
    {
     "name": "stdout",
     "output_type": "stream",
     "text": [
      "[[1. 0. 0.]\n",
      " [0. 1. 0.]\n",
      " [0. 0. 1.]]\n"
     ]
    }
   ],
   "source": [
    "import numpy as np\n",
    "identity_matrix=np.identity(3)\n",
    "print(identity_matrix)"
   ]
  },
  {
   "cell_type": "code",
   "execution_count": 7,
   "id": "cb6e5462",
   "metadata": {},
   "outputs": [
    {
     "name": "stdout",
     "output_type": "stream",
     "text": [
      "U:\n",
      " [[-0.40455358 -0.9145143 ]\n",
      " [-0.9145143   0.40455358]]\n",
      "S:\n",
      " [5.4649857  0.36596619]\n",
      "Vt:\n",
      " [[-0.57604844 -0.81741556]\n",
      " [ 0.81741556 -0.57604844]]\n",
      "Addition:\n",
      " [[ 6  8]\n",
      " [10 12]]\n",
      "Multiplication:\n",
      " [[19 22]\n",
      " [43 50]]\n"
     ]
    }
   ],
   "source": [
    "A = np.array([[1, 2], [3, 4]])\n",
    "B = np.array([[5, 6], [7, 8]])\n",
    "U, S, Vt = np.linalg.svd(A)\n",
    "print(\"U:\\n\", U)\n",
    "print(\"S:\\n\", S)\n",
    "print(\"Vt:\\n\", Vt)\n",
    "print(\"Addition:\\n\", A + B)\n",
    "print(\"Multiplication:\\n\", A @ B)"
   ]
  },
  {
   "cell_type": "code",
   "execution_count": 8,
   "id": "38045dc5",
   "metadata": {},
   "outputs": [
    {
     "data": {
      "image/png": "[encoded data removed]",
      "text/plain": [
       "<Figure size 432x288 with 1 Axes>"
      ]
     },
     "metadata": {
      "needs_background": "light"
     },
     "output_type": "display_data"
    }
   ],
   "source": [
    "import matplotlib.pyplot as plt\n",
    "x = [1, 2, 6, 18]\n",
    "y = [3, 10, 12, 20]\n",
    "\n",
    "plt.plot(x, y,marker='o',color='blue')\n",
    "plt.title(\"Dotted Line with Points\")\n",
    "plt.show()"
   ]
  },
  {
   "cell_type": "code",
   "execution_count": 9,
   "id": "a06d3820",
   "metadata": {},
   "outputs": [
    {
     "data": {
      "image/png": "[encoded data removed]",
      "text/plain": [
       "<Figure size 432x288 with 1 Axes>"
      ]
     },
     "metadata": {
      "needs_background": "light"
     },
     "output_type": "display_data"
    }
   ],
   "source": [
    "t = [12, 14, 16, 18, 20, 22, 24]\n",
    "c = [100, 200, 250, 400, 300, 450, 500]\n",
    "\n",
    "plt.plot(t,c,marker='o',color='green')\n",
    "plt.xlabel(\"Temperature\")\n",
    "plt.ylabel(\"Celsius\")\n",
    "plt.title(\"Temperature vs Celsius\")\n",
    "plt.grid(True)\n",
    "plt.show()"
   ]
  },
  {
   "cell_type": "code",
   "execution_count": 10,
   "id": "8b45461a",
   "metadata": {},
   "outputs": [
    {
     "data": {
      "image/png": "[encoded data removed]",
      "text/plain": [
       "<Figure size 432x288 with 1 Axes>"
      ]
     },
     "metadata": {
      "needs_background": "light"
     },
     "output_type": "display_data"
    }
   ],
   "source": [
    "x = [1, 2, 3, 4]\n",
    "y1 = [1, 4, 9, 16]\n",
    "y2 = [1, 2, 3, 4]\n",
    "\n",
    "plt.plot(x, y1, label='Squares')\n",
    "plt.plot(x, y2, label='Line')\n",
    "plt.legend()\n",
    "plt.show()"
   ]
  },
  {
   "cell_type": "code",
   "execution_count": 11,
   "id": "d12955bc",
   "metadata": {},
   "outputs": [
    {
     "data": {
      "image/png": "[encoded data removed]",
      "text/plain": [
       "<Figure size 432x288 with 2 Axes>"
      ]
     },
     "metadata": {
      "needs_background": "light"
     },
     "output_type": "display_data"
    }
   ],
   "source": [
    "plt.subplot(1, 2, 1)\n",
    "plt.plot([1, 2, 3], [1, 4, 9])\n",
    "\n",
    "plt.subplot(1, 2, 2)\n",
    "plt.plot([1, 2, 3], [1, 2, 3])\n",
    "plt.show()"
   ]
  },
  {
   "cell_type": "code",
   "execution_count": 12,
   "id": "3a5c286f",
   "metadata": {
    "scrolled": true
   },
   "outputs": [
    {
     "data": {
      "image/png": "[encoded data removed]",
      "text/plain": [
       "<Figure size 432x288 with 1 Axes>"
      ]
     },
     "metadata": {
      "needs_background": "light"
     },
     "output_type": "display_data"
    }
   ],
   "source": [
    "import numpy as np\n",
    "import matplotlib.pyplot as plt\n",
    "men = [22, 30, 35, 35, 26]\n",
    "women = [25, 32, 30, 35, 29]\n",
    "Gender = ['G1', 'G2', 'G3', 'G4', 'G5']\n",
    "x = np.arange(len(Gender))\n",
    "w = 0.35\n",
    "plt.bar(x - w/2, men, w, label='Men')\n",
    "plt.bar(x + w/2, women, w, label='Women')\n",
    "plt.xticks(x,Gender)\n",
    "plt.legend()\n",
    "plt.show()\n"
   ]
  },
  {
   "cell_type": "code",
   "execution_count": 13,
   "id": "e36d2e4e",
   "metadata": {},
   "outputs": [
    {
     "name": "stdout",
     "output_type": "stream",
     "text": [
      "0    10\n",
      "1    20\n",
      "2    30\n",
      "3    40\n",
      "dtype: int64\n"
     ]
    }
   ],
   "source": [
    "import pandas as pd\n",
    "\n",
    "my_list = [10, 20, 30, 40]\n",
    "series = pd.Series(my_list)\n",
    "print(series)"
   ]
  },
  {
   "cell_type": "code",
   "execution_count": 14,
   "id": "f1eb83bb",
   "metadata": {},
   "outputs": [
    {
     "name": "stdout",
     "output_type": "stream",
     "text": [
      "DatetimeIndex(['2024-11-20', '2024-11-21', '2024-11-22', '2024-11-23',\n",
      "               '2024-11-24'],\n",
      "              dtype='datetime64[ns]', freq='D')\n"
     ]
    }
   ],
   "source": [
    "dates = pd.date_range(start=\"2024-11-20\", end=\"2024-11-24\")\n",
    "print(dates)"
   ]
  },
  {
   "cell_type": "code",
   "execution_count": 15,
   "id": "f28fef2c",
   "metadata": {},
   "outputs": [
    {
     "name": "stdout",
     "output_type": "stream",
     "text": [
      "   Number Letter\n",
      "0       1      A\n",
      "1       2      B\n",
      "2       3      C\n"
     ]
    }
   ],
   "source": [
    "data = [[1, 'A'], [2, 'B'], [3, 'C']]\n",
    "df = pd.DataFrame(data, columns=['Number', 'Letter'])\n",
    "print(df)"
   ]
  },
  {
   "cell_type": "code",
   "execution_count": 21,
   "id": "3c5b9379",
   "metadata": {},
   "outputs": [
    {
     "name": "stdout",
     "output_type": "stream",
     "text": [
      "    Name  Age\n",
      "0   John   25\n",
      "1  Alice   30\n"
     ]
    }
   ],
   "source": [
    "data_dict = {'Name': ['John', 'Alice'], 'Age': [25, 30]}\n",
    "df_dict = pd.DataFrame(data_dict)\n",
    "print(df_dict)\n"
   ]
  },
  {
   "cell_type": "code",
   "execution_count": 19,
   "id": "ff0fd245",
   "metadata": {},
   "outputs": [
    {
     "ename": "SyntaxError",
     "evalue": "unexpected EOF while parsing (Temp/ipykernel_2532/757920966.py, line 2)",
     "output_type": "error",
     "traceback": [
      "\u001b[1;36m  File \u001b[1;32m\"C:\\Users\\AWH3\\AppData\\Local\\Temp/ipykernel_2532/757920966.py\"\u001b[1;36m, line \u001b[1;32m2\u001b[0m\n\u001b[1;33m    print(df_dict.tail(1)\u001b[0m\n\u001b[1;37m                         ^\u001b[0m\n\u001b[1;31mSyntaxError\u001b[0m\u001b[1;31m:\u001b[0m unexpected EOF while parsing\n"
     ]
    }
   ],
   "source": [
    "print(df_dict.head(1))\n",
    "print(df_dict.tail(1)"
   ]
  },
  {
   "cell_type": "code",
   "execution_count": null,
   "id": "29b37a10",
   "metadata": {},
   "outputs": [],
   "source": []
  }
 ],
 "metadata": {
  "kernelspec": {
   "display_name": "Python 3 (ipykernel)",
   "language": "python",
   "name": "python3"
  },
  "language_info": {
   "codemirror_mode": {
    "name": "ipython",
    "version": 3
   },
   "file_extension": ".py",
   "mimetype": "text/x-python",
   "name": "python",
   "nbconvert_exporter": "python",
   "pygments_lexer": "ipython3",
   "version": "3.9.7"
  }
 },
 "nbformat": 4,
 "nbformat_minor": 5
}
