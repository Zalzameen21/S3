{
 "cells": [
  {
   "cell_type": "code",
   "execution_count": 1,
   "id": "040ba233",
   "metadata": {},
   "outputs": [
    {
     "name": "stdout",
     "output_type": "stream",
     "text": [
      "Simple Calculator\n",
      "Operations: +, -, *, /\n",
      "Enter first number: 5\n",
      "Enter operator (+, -, *, /): +\n",
      "Enter second number: 25\n",
      "Result: 30.0\n",
      "perform another calculation? (y/n): n\n"
     ]
    }
   ],
   "source": [
    "def calculator():\n",
    "    print(\"Simple Calculator\")\n",
    "    print(\"Operations: +, -, *, /\")\n",
    "    \n",
    "    while True:\n",
    "        try:\n",
    "            num1 = float(input(\"Enter first number: \"))\n",
    "            op = input(\"Enter operator (+, -, *, /): \")\n",
    "            num2 = float(input(\"Enter second number: \"))\n",
    "            \n",
    "            if op == '+':\n",
    "                result = num1 + num2\n",
    "            elif op == '-':\n",
    "                result = num1 - num2\n",
    "            elif op == '*':\n",
    "                result = num1 * num2\n",
    "            elif op == '/':\n",
    "                if num2 == 0:\n",
    "                    print(\"Error.\")\n",
    "                    continue\n",
    "                result = num1 / num2\n",
    "            else:\n",
    "                print(\"Invalid operator.\")\n",
    "                continue\n",
    "            \n",
    "            print(f\"Result: {result}\")\n",
    "        except ValueError:\n",
    "            print(\"Invalid input.\")\n",
    "        \n",
    "        cont = input(\"perform another calculation? (y/n): \")\n",
    "        if cont.lower() != 'y':\n",
    "            break\n",
    "\n",
    "calculator()\n"
   ]
  },
  {
   "cell_type": "code",
   "execution_count": null,
   "id": "40fb8789",
   "metadata": {},
   "outputs": [],
   "source": []
  },
  {
   "cell_type": "code",
   "execution_count": null,
   "id": "2f885840",
   "metadata": {},
   "outputs": [],
   "source": []
  }
 ],
 "metadata": {
  "kernelspec": {
   "display_name": "Python 3 (ipykernel)",
   "language": "python",
   "name": "python3"
  },
  "language_info": {
   "codemirror_mode": {
    "name": "ipython",
    "version": 3
   },
   "file_extension": ".py",
   "mimetype": "text/x-python",
   "name": "python",
   "nbconvert_exporter": "python",
   "pygments_lexer": "ipython3",
   "version": "3.9.7"
  }
 },
 "nbformat": 4,
 "nbformat_minor": 5
}
